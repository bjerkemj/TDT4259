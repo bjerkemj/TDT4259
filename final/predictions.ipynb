{
 "cells": [
  {
   "cell_type": "code",
   "execution_count": 1,
   "metadata": {},
   "outputs": [
    {
     "name": "stderr",
     "output_type": "stream",
     "text": [
      "/Users/johanbjerkem/Library/CloudStorage/OneDrive-NTNU/Documents/NTNU/5klassehost/ads/TDT4259/.venv/lib/python3.12/site-packages/tqdm/auto.py:21: TqdmWarning: IProgress not found. Please update jupyter and ipywidgets. See https://ipywidgets.readthedocs.io/en/stable/user_install.html\n",
      "  from .autonotebook import tqdm as notebook_tqdm\n",
      "Importing plotly failed. Interactive plots will not work.\n"
     ]
    }
   ],
   "source": [
    "import pandas as pd\n",
    "from prophet import Prophet"
   ]
  },
  {
   "cell_type": "code",
   "execution_count": 2,
   "metadata": {},
   "outputs": [
    {
     "data": {
      "text/html": [
       "<div>\n",
       "<style scoped>\n",
       "    .dataframe tbody tr th:only-of-type {\n",
       "        vertical-align: middle;\n",
       "    }\n",
       "\n",
       "    .dataframe tbody tr th {\n",
       "        vertical-align: top;\n",
       "    }\n",
       "\n",
       "    .dataframe thead th {\n",
       "        text-align: right;\n",
       "    }\n",
       "</style>\n",
       "<table border=\"1\" class=\"dataframe\">\n",
       "  <thead>\n",
       "    <tr style=\"text-align: right;\">\n",
       "      <th></th>\n",
       "      <th>ds</th>\n",
       "      <th>stv_temp_2m</th>\n",
       "      <th>gas_price</th>\n",
       "      <th>y</th>\n",
       "    </tr>\n",
       "  </thead>\n",
       "  <tbody>\n",
       "    <tr>\n",
       "      <th>0</th>\n",
       "      <td>2015-12-31 23:00:00</td>\n",
       "      <td>7.3</td>\n",
       "      <td>2.28</td>\n",
       "      <td>16.39</td>\n",
       "    </tr>\n",
       "    <tr>\n",
       "      <th>1</th>\n",
       "      <td>2016-01-01 00:00:00</td>\n",
       "      <td>6.9</td>\n",
       "      <td>2.28</td>\n",
       "      <td>16.04</td>\n",
       "    </tr>\n",
       "    <tr>\n",
       "      <th>2</th>\n",
       "      <td>2016-01-01 01:00:00</td>\n",
       "      <td>7.0</td>\n",
       "      <td>2.28</td>\n",
       "      <td>15.74</td>\n",
       "    </tr>\n",
       "    <tr>\n",
       "      <th>3</th>\n",
       "      <td>2016-01-01 02:00:00</td>\n",
       "      <td>7.4</td>\n",
       "      <td>2.28</td>\n",
       "      <td>15.57</td>\n",
       "    </tr>\n",
       "    <tr>\n",
       "      <th>4</th>\n",
       "      <td>2016-01-01 03:00:00</td>\n",
       "      <td>8.0</td>\n",
       "      <td>2.28</td>\n",
       "      <td>15.47</td>\n",
       "    </tr>\n",
       "  </tbody>\n",
       "</table>\n",
       "</div>"
      ],
      "text/plain": [
       "                    ds  stv_temp_2m  gas_price      y\n",
       "0  2015-12-31 23:00:00          7.3       2.28  16.39\n",
       "1  2016-01-01 00:00:00          6.9       2.28  16.04\n",
       "2  2016-01-01 01:00:00          7.0       2.28  15.74\n",
       "3  2016-01-01 02:00:00          7.4       2.28  15.57\n",
       "4  2016-01-01 03:00:00          8.0       2.28  15.47"
      ]
     },
     "execution_count": 2,
     "metadata": {},
     "output_type": "execute_result"
    }
   ],
   "source": [
    "# Load data\n",
    "data_path = 'data_NO2_boosted.csv'\n",
    "df = pd.read_csv(data_path)\n",
    "\n",
    "# Rename columns\n",
    "df = df.rename(columns={'datetime': 'ds', 'spot_price': 'y'})\n",
    "df.head()\n",
    "\n",
    "# Keep only necessary columns\n",
    "df = df[['ds', 'stv_temp_2m', 'gas_price', 'y']]\n",
    "\n",
    "df.head()"
   ]
  },
  {
   "cell_type": "code",
   "execution_count": null,
   "metadata": {},
   "outputs": [
    {
     "name": "stdout",
     "output_type": "stream",
     "text": [
      "Hour 1 of 1000\n"
     ]
    },
    {
     "name": "stderr",
     "output_type": "stream",
     "text": [
      "11:50:46 - cmdstanpy - INFO - Chain [1] start processing\n",
      "11:50:49 - cmdstanpy - INFO - Chain [1] done processing\n"
     ]
    },
    {
     "name": "stdout",
     "output_type": "stream",
     "text": [
      "Hour 2 of 1000\n"
     ]
    },
    {
     "name": "stderr",
     "output_type": "stream",
     "text": [
      "11:50:50 - cmdstanpy - INFO - Chain [1] start processing\n",
      "11:50:53 - cmdstanpy - INFO - Chain [1] done processing\n"
     ]
    },
    {
     "name": "stdout",
     "output_type": "stream",
     "text": [
      "Hour 3 of 1000\n"
     ]
    },
    {
     "name": "stderr",
     "output_type": "stream",
     "text": [
      "11:50:54 - cmdstanpy - INFO - Chain [1] start processing\n",
      "11:50:57 - cmdstanpy - INFO - Chain [1] done processing\n"
     ]
    },
    {
     "name": "stdout",
     "output_type": "stream",
     "text": [
      "Hour 4 of 1000\n"
     ]
    },
    {
     "name": "stderr",
     "output_type": "stream",
     "text": [
      "11:50:58 - cmdstanpy - INFO - Chain [1] start processing\n",
      "11:51:02 - cmdstanpy - INFO - Chain [1] done processing\n"
     ]
    },
    {
     "name": "stdout",
     "output_type": "stream",
     "text": [
      "Hour 5 of 1000\n"
     ]
    },
    {
     "name": "stderr",
     "output_type": "stream",
     "text": [
      "11:51:03 - cmdstanpy - INFO - Chain [1] start processing\n",
      "11:51:06 - cmdstanpy - INFO - Chain [1] done processing\n"
     ]
    },
    {
     "name": "stdout",
     "output_type": "stream",
     "text": [
      "Hour 6 of 1000\n"
     ]
    },
    {
     "name": "stderr",
     "output_type": "stream",
     "text": [
      "11:51:08 - cmdstanpy - INFO - Chain [1] start processing\n",
      "11:51:11 - cmdstanpy - INFO - Chain [1] done processing\n"
     ]
    },
    {
     "name": "stdout",
     "output_type": "stream",
     "text": [
      "Hour 7 of 1000\n"
     ]
    },
    {
     "name": "stderr",
     "output_type": "stream",
     "text": [
      "11:51:13 - cmdstanpy - INFO - Chain [1] start processing\n",
      "11:51:16 - cmdstanpy - INFO - Chain [1] done processing\n"
     ]
    },
    {
     "name": "stdout",
     "output_type": "stream",
     "text": [
      "Hour 8 of 1000\n"
     ]
    },
    {
     "name": "stderr",
     "output_type": "stream",
     "text": [
      "11:51:18 - cmdstanpy - INFO - Chain [1] start processing\n",
      "11:51:20 - cmdstanpy - INFO - Chain [1] done processing\n"
     ]
    },
    {
     "name": "stdout",
     "output_type": "stream",
     "text": [
      "Hour 9 of 1000\n"
     ]
    },
    {
     "name": "stderr",
     "output_type": "stream",
     "text": [
      "11:51:22 - cmdstanpy - INFO - Chain [1] start processing\n",
      "11:51:26 - cmdstanpy - INFO - Chain [1] done processing\n"
     ]
    },
    {
     "name": "stdout",
     "output_type": "stream",
     "text": [
      "Hour 10 of 1000\n"
     ]
    },
    {
     "name": "stderr",
     "output_type": "stream",
     "text": [
      "11:51:27 - cmdstanpy - INFO - Chain [1] start processing\n",
      "11:51:31 - cmdstanpy - INFO - Chain [1] done processing\n"
     ]
    },
    {
     "name": "stdout",
     "output_type": "stream",
     "text": [
      "Hour 11 of 1000\n"
     ]
    },
    {
     "name": "stderr",
     "output_type": "stream",
     "text": [
      "11:51:33 - cmdstanpy - INFO - Chain [1] start processing\n",
      "11:51:36 - cmdstanpy - INFO - Chain [1] done processing\n"
     ]
    },
    {
     "name": "stdout",
     "output_type": "stream",
     "text": [
      "Hour 12 of 1000\n"
     ]
    },
    {
     "name": "stderr",
     "output_type": "stream",
     "text": [
      "11:51:38 - cmdstanpy - INFO - Chain [1] start processing\n",
      "11:51:41 - cmdstanpy - INFO - Chain [1] done processing\n"
     ]
    },
    {
     "name": "stdout",
     "output_type": "stream",
     "text": [
      "Hour 13 of 1000\n"
     ]
    },
    {
     "name": "stderr",
     "output_type": "stream",
     "text": [
      "11:51:42 - cmdstanpy - INFO - Chain [1] start processing\n",
      "11:51:46 - cmdstanpy - INFO - Chain [1] done processing\n"
     ]
    },
    {
     "name": "stdout",
     "output_type": "stream",
     "text": [
      "Hour 14 of 1000\n"
     ]
    },
    {
     "name": "stderr",
     "output_type": "stream",
     "text": [
      "11:51:48 - cmdstanpy - INFO - Chain [1] start processing\n",
      "11:51:51 - cmdstanpy - INFO - Chain [1] done processing\n"
     ]
    },
    {
     "name": "stdout",
     "output_type": "stream",
     "text": [
      "Hour 15 of 1000\n"
     ]
    },
    {
     "name": "stderr",
     "output_type": "stream",
     "text": [
      "11:51:53 - cmdstanpy - INFO - Chain [1] start processing\n",
      "11:51:57 - cmdstanpy - INFO - Chain [1] done processing\n"
     ]
    },
    {
     "name": "stdout",
     "output_type": "stream",
     "text": [
      "Hour 16 of 1000\n"
     ]
    },
    {
     "name": "stderr",
     "output_type": "stream",
     "text": [
      "11:51:58 - cmdstanpy - INFO - Chain [1] start processing\n",
      "11:52:01 - cmdstanpy - INFO - Chain [1] done processing\n"
     ]
    },
    {
     "name": "stdout",
     "output_type": "stream",
     "text": [
      "Hour 17 of 1000\n"
     ]
    },
    {
     "name": "stderr",
     "output_type": "stream",
     "text": [
      "11:52:03 - cmdstanpy - INFO - Chain [1] start processing\n",
      "11:52:07 - cmdstanpy - INFO - Chain [1] done processing\n"
     ]
    },
    {
     "name": "stdout",
     "output_type": "stream",
     "text": [
      "Hour 18 of 1000\n"
     ]
    },
    {
     "name": "stderr",
     "output_type": "stream",
     "text": [
      "11:52:09 - cmdstanpy - INFO - Chain [1] start processing\n",
      "11:52:11 - cmdstanpy - INFO - Chain [1] done processing\n"
     ]
    },
    {
     "name": "stdout",
     "output_type": "stream",
     "text": [
      "Hour 19 of 1000\n"
     ]
    },
    {
     "name": "stderr",
     "output_type": "stream",
     "text": [
      "11:52:13 - cmdstanpy - INFO - Chain [1] start processing\n",
      "11:52:17 - cmdstanpy - INFO - Chain [1] done processing\n"
     ]
    },
    {
     "name": "stdout",
     "output_type": "stream",
     "text": [
      "Hour 20 of 1000\n"
     ]
    },
    {
     "name": "stderr",
     "output_type": "stream",
     "text": [
      "11:52:19 - cmdstanpy - INFO - Chain [1] start processing\n",
      "11:52:23 - cmdstanpy - INFO - Chain [1] done processing\n"
     ]
    },
    {
     "name": "stdout",
     "output_type": "stream",
     "text": [
      "Hour 21 of 1000\n"
     ]
    },
    {
     "name": "stderr",
     "output_type": "stream",
     "text": [
      "11:52:25 - cmdstanpy - INFO - Chain [1] start processing\n",
      "11:52:28 - cmdstanpy - INFO - Chain [1] done processing\n"
     ]
    },
    {
     "name": "stdout",
     "output_type": "stream",
     "text": [
      "Hour 22 of 1000\n"
     ]
    },
    {
     "name": "stderr",
     "output_type": "stream",
     "text": [
      "11:52:30 - cmdstanpy - INFO - Chain [1] start processing\n",
      "11:52:33 - cmdstanpy - INFO - Chain [1] done processing\n"
     ]
    },
    {
     "name": "stdout",
     "output_type": "stream",
     "text": [
      "Hour 23 of 1000\n"
     ]
    },
    {
     "name": "stderr",
     "output_type": "stream",
     "text": [
      "11:52:35 - cmdstanpy - INFO - Chain [1] start processing\n",
      "11:52:40 - cmdstanpy - INFO - Chain [1] done processing\n"
     ]
    },
    {
     "name": "stdout",
     "output_type": "stream",
     "text": [
      "Hour 24 of 1000\n"
     ]
    },
    {
     "name": "stderr",
     "output_type": "stream",
     "text": [
      "11:52:42 - cmdstanpy - INFO - Chain [1] start processing\n",
      "11:52:48 - cmdstanpy - INFO - Chain [1] done processing\n"
     ]
    },
    {
     "name": "stdout",
     "output_type": "stream",
     "text": [
      "Hour 25 of 1000\n"
     ]
    },
    {
     "name": "stderr",
     "output_type": "stream",
     "text": [
      "11:52:50 - cmdstanpy - INFO - Chain [1] start processing\n",
      "11:52:54 - cmdstanpy - INFO - Chain [1] done processing\n"
     ]
    },
    {
     "name": "stdout",
     "output_type": "stream",
     "text": [
      "Hour 26 of 1000\n"
     ]
    },
    {
     "name": "stderr",
     "output_type": "stream",
     "text": [
      "11:52:56 - cmdstanpy - INFO - Chain [1] start processing\n"
     ]
    }
   ],
   "source": [
    "# Set variables for the rolling forecast\n",
    "forecast_results = [] # List to store forecast results\n",
    "total_predictions = 1000 # Number of hours to forecast\n",
    "forecast_horizon = 1 # Number of hours to forecast at a time\n",
    "\n",
    "# Rolling forecast\n",
    "for i in range(total_predictions):\n",
    "    print(f\"Hour {i+1} of {total_predictions}\")\n",
    "\n",
    "    # Use a copy of original data, so it doesn't get modified\n",
    "    df_copy = df.copy()\n",
    "\n",
    "    # Calculate the starting index to keep exactly 364 days of data (364*24 hours)\n",
    "    start_index = -(365 * 24 + total_predictions - i + 1)\n",
    "    end_index = - (total_predictions - i + 1)\n",
    "    train_data = df_copy.iloc[start_index:end_index]\n",
    "\n",
    "    # Initialize Prophet model and add extra regressors\n",
    "    m = Prophet(daily_seasonality=\"auto\", weekly_seasonality=\"auto\", yearly_seasonality=\"auto\")\n",
    "    m.add_regressor('stv_temp_2m')\n",
    "    m.add_regressor('gas_price')\n",
    "\n",
    "    # Fit the model on the latest training data\n",
    "    m.fit(train_data)\n",
    "\n",
    "    # Create a future dataframe for the next hour\n",
    "    future = m.make_future_dataframe(periods=forecast_horizon, freq='h')\n",
    "\n",
    "    # Add regressor data for the next hour\n",
    "    # Aligning the length explicitly to avoid mismatch\n",
    "    future['stv_temp_2m'] = df['stv_temp_2m'].iloc[start_index:end_index+1].values\n",
    "    future['gas_price'] = df['gas_price'].iloc[start_index:end_index+1].values\n",
    "\n",
    "    # Make a one-hour prediction\n",
    "    forecast = m.predict(future)\n",
    "\n",
    "    # Store the prediction for this hour only\n",
    "    forecast_1h = forecast[['ds', 'yhat']].iloc[-forecast_horizon:]\n",
    "    forecast_results.append(forecast_1h)\n"
   ]
  },
  {
   "cell_type": "code",
   "execution_count": null,
   "metadata": {},
   "outputs": [],
   "source": [
    "# Combine all results into a single DataFrame\n",
    "forecast_results_df = pd.concat(forecast_results, ignore_index=True)\n",
    "\n",
    "# Save to file\n",
    "forecast_results_df.to_csv('forecast_results.csv', index=False)\n",
    "\n",
    "# Display the results\n",
    "print(forecast_results_df)"
   ]
  },
  {
   "cell_type": "code",
   "execution_count": null,
   "metadata": {},
   "outputs": [],
   "source": []
  }
 ],
 "metadata": {
  "kernelspec": {
   "display_name": ".venv",
   "language": "python",
   "name": "python3"
  },
  "language_info": {
   "codemirror_mode": {
    "name": "ipython",
    "version": 3
   },
   "file_extension": ".py",
   "mimetype": "text/x-python",
   "name": "python",
   "nbconvert_exporter": "python",
   "pygments_lexer": "ipython3",
   "version": "3.12.7"
  }
 },
 "nbformat": 4,
 "nbformat_minor": 2
}
